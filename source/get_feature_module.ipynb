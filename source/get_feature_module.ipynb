{
 "cells": [
  {
   "cell_type": "code",
   "execution_count": 1,
   "metadata": {},
   "outputs": [],
   "source": [
    "import json\n",
    "import os\n",
    "import re\n",
    "import pickle\n",
    "import subprocess\n",
    "import sys"
   ]
  },
  {
   "cell_type": "code",
   "execution_count": null,
   "metadata": {},
   "outputs": [],
   "source": [
    "# 引数の二次元のリストの重複する要素の削除をする\n",
    "def getOnlyWords(targetList):\n",
    "    result = []\n",
    "    index = 1\n",
    "    listLength = len(targetList)\n",
    "    for val in targetList:\n",
    "        if val not in result:\n",
    "            result.append(val)\n",
    "        if((index%10000) == 0):\n",
    "            print('{0}/{1}'.format(index,listLength))\n",
    "        index +=1\n",
    "\n",
    "    return result"
   ]
  },
  {
   "cell_type": "code",
   "execution_count": null,
   "metadata": {},
   "outputs": [],
   "source": [
    "def isInBadWord(dictWord):\n",
    "    for word in dictWord:\n",
    "        if(word == '(bad)'):\n",
    "            return False\n",
    "    return True"
   ]
  },
  {
   "cell_type": "code",
   "execution_count": null,
   "metadata": {},
   "outputs": [],
   "source": [
    "# 引数wordがtargetWordList内にいくつ存在しているか\n",
    "def wordCounting(word,targetWordList):\n",
    "    counter = 0\n",
    "    for targetWord in targetWordList:\n",
    "        if(isInBadWord(targetWord)):\n",
    "            if(word == targetWord):\n",
    "                counter += 1\n",
    "    return counter"
   ]
  },
  {
   "cell_type": "code",
   "execution_count": null,
   "metadata": {},
   "outputs": [],
   "source": [
    "def writePickle(obj,filePath):\n",
    "    fileName = os.path.basename(filePath)\n",
    "#     try:\n",
    "    with open(filePath,'wb') as f : \n",
    "        pickle.dump(obj,f)\n",
    "    print('writing {} success'.format(fileName))\n",
    "#     except:\n",
    "#         print('failed writing {}'.format(fileName))"
   ]
  },
  {
   "cell_type": "code",
   "execution_count": null,
   "metadata": {},
   "outputs": [],
   "source": [
    "#ニーモニックの配列をBigram分割した二次元配列を返す\n",
    "def getBigramDivide(mnemonicList):\n",
    "    n = 2 \n",
    "    bigram = []\n",
    "    for mindex in range(len(mnemonicList) - n + 1):\n",
    "        ngramWord = mnemonicList[mindex:mindex + n]\n",
    "        bigram.append(ngramWord)\n",
    "    return bigram"
   ]
  },
  {
   "cell_type": "code",
   "execution_count": null,
   "metadata": {},
   "outputs": [],
   "source": [
    "def getUnigramDivide(mnemonicList):\n",
    "    n = 1 \n",
    "    unigram = []\n",
    "    for mindex in range(len(mnemonicList) - n + 1):\n",
    "        ngramWord = mnemonicList[mindex:mindex + n]\n",
    "        unigram.append(ngramWord)\n",
    "    return unigram"
   ]
  },
  {
   "cell_type": "code",
   "execution_count": null,
   "metadata": {},
   "outputs": [],
   "source": [
    "def isSectionTextOrItext(sectionName):\n",
    "    antiPattern = '<.text>_0'\n",
    "    hopePattern_text = '<.text>_.'\n",
    "    hopePattern_itext = '<.itext>_.'\n",
    "    retVal = False\n",
    "    \n",
    "    isMatch_Text = re.match(hopePattern_text,sectionName)\n",
    "    isMatch_Itext = re.match(hopePattern_itext,sectionName)\n",
    "    if(antiPattern == sectionName):\n",
    "        retVal = False\n",
    "    elif(isMatch_Text or isMatch_Itext):\n",
    "        retVal = True\n",
    "    \n",
    "    return retVal"
   ]
  },
  {
   "cell_type": "code",
   "execution_count": null,
   "metadata": {},
   "outputs": [],
   "source": [
    "def fileLoader(filepath):\n",
    "    with open(filepath) as f:\n",
    "        dictDataFromJson = json.load(f)\n",
    "    \n",
    "    return dictDataFromJson['mnemonics']\n",
    "#     print(os.path.basename(filepath))"
   ]
  },
  {
   "cell_type": "code",
   "execution_count": null,
   "metadata": {},
   "outputs": [],
   "source": [
    "def isPe32(fileTypeStr):\n",
    "    ifInThisWord = r'PE32.*'\n",
    "    \n",
    "    if re.findall(ifInThisWord,fileTypeStr):\n",
    "        return True\n",
    "    else:\n",
    "        return False"
   ]
  }
 ],
 "metadata": {
  "jupytext": {
   "encoding": "# -*- coding: utf-8 -*-",
   "text_representation": {
    "extension": ".py",
    "format_name": "light",
    "format_version": "1.5",
    "jupytext_version": "1.3.0"
   }
  },
  "kernelspec": {
   "display_name": "Python 3",
   "language": "python",
   "name": "python3"
  },
  "language_info": {
   "codemirror_mode": {
    "name": "ipython",
    "version": 3
   },
   "file_extension": ".py",
   "mimetype": "text/x-python",
   "name": "python",
   "nbconvert_exporter": "python",
   "pygments_lexer": "ipython3",
   "version": "3.7.0"
  }
 },
 "nbformat": 4,
 "nbformat_minor": 2
}
