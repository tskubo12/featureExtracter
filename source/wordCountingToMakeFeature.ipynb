{
 "cells": [
  {
   "cell_type": "code",
   "execution_count": 6,
   "metadata": {},
   "outputs": [],
   "source": [
    "import get_feature_module as getf\n",
    "from collections import OrderedDict\n",
    "import json\n",
    "import os\n",
    "import re\n",
    "import pickle"
   ]
  },
  {
   "cell_type": "code",
   "execution_count": 7,
   "metadata": {},
   "outputs": [],
   "source": [
    "def createNewWordList(allWordDict):\n",
    "    counter = 0\n",
    "    newAllWordDict = []\n",
    "    for dictWord in allWordDict:\n",
    "        if getf.isInBadWord(dictWord):\n",
    "            newAllWordDict.append(dictWord)\n",
    "        else:\n",
    "            counter += 1\n",
    "    \n",
    "    print('old : {}'.format(len(allWordDict)))\n",
    "    print('new : {}'.format(len(newAllWordDict)))\n",
    "    return newAllWordDict"
   ]
  },
  {
   "cell_type": "code",
   "execution_count": 8,
   "metadata": {},
   "outputs": [],
   "source": [
    "def addCount(wordAndCountList,wordAndCountList2):\n",
    "    for index in range(len(wordAndCountList)):\n",
    "        wordAndCountList[index][1] = wordAndCountList[index][1] + wordAndCountList2[index][1]\n",
    "        \n",
    "    return wordAndCountList"
   ]
  },
  {
   "cell_type": "code",
   "execution_count": 9,
   "metadata": {},
   "outputs": [],
   "source": [
    "# wordAndCountList = [[[m1 , m2] , count],[[m1 , m3] , count],[[m2 , m2] , count]]\n",
    "def getWordAndCountList(allWordDict,divided):\n",
    "    wordAndCountList = []\n",
    "    length = len(allWordDict)\n",
    "    index = 1\n",
    "    for word in allWordDict:\n",
    "        print('{0}/{1}'.format(index,length))\n",
    "        count = getf.wordCounting(word,divided)\n",
    "        list = [word , count]\n",
    "        index += 1\n",
    "        wordAndCountList.append(list)\n",
    "    return wordAndCountList"
   ]
  },
  {
   "cell_type": "code",
   "execution_count": 10,
   "metadata": {},
   "outputs": [
    {
     "name": "stdout",
     "output_type": "stream",
     "text": [
      "old : 238039\n",
      "new : 236143\n"
     ]
    }
   ],
   "source": [
    "targetDirPath=r'C:\\Users\\HIROKI\\Downloads\\results_20191205\\results\\assemblyTxt'\n",
    "resultDir = r'..\\featureFromNgram'\n",
    "with open(r'..\\allWordDict.pickle', mode='rb') as f:\n",
    "    allWordDict = pickle.load(f)\n",
    "allWordDict = createNewWordList(allWordDict)"
   ]
  },
  {
   "cell_type": "code",
   "execution_count": 11,
   "metadata": {},
   "outputs": [],
   "source": [
    "def getMatchIndexFromTupleList(word,tupleList):\n",
    "    for i , tuple in enumerate(tupleList):\n",
    "        if(word == tuple[0]):\n",
    "            return i\n",
    "    return 0"
   ]
  },
  {
   "cell_type": "code",
   "execution_count": 12,
   "metadata": {},
   "outputs": [],
   "source": [
    "# tupleList = [[word1 , count1],[word2 , count2]]\n",
    "# word = [mnemonicA , mnemonicB]\n",
    "def createCountingWordDict(allWordDict,mnemonicSections):\n",
    "    wordAndCountList = []\n",
    "    flag = 0\n",
    "    print('test1')\n",
    "    for sectionName in mnemonicSections.keys():\n",
    "        if(getf.isSectionTextOrItext(sectionName)):\n",
    "            print('test2')\n",
    "            ngramDivided = getf.getBigramDivide(mnemonicSections[sectionName])\n",
    "            print('test3')\n",
    "            if(flag == 0):\n",
    "                wordAndCountList = getWordAndCountList(allWordDict,ngramDivided)\n",
    "                print(len(wordAndCountList))\n",
    "            else:\n",
    "                wordAndCountList = addCount(wordAndCountList,getWordAndCountList(allWordDict,ngramDivided))\n",
    "                print(len(wordAndCountList))\n",
    "            flag += 1\n",
    "\n",
    "    return wordAndCountList"
   ]
  },
  {
   "cell_type": "code",
   "execution_count": null,
   "metadata": {},
   "outputs": [],
   "source": [
    "for (dirpath,dirnames,fileNames) in os.walk(targetDirPath):\n",
    "    idx  = 1\n",
    "    fileCounter = len(fileNames)\n",
    "    for fileName in fileNames:\n",
    "        print(fileName)\n",
    "        mnemonicSections = getf.fileLoader(os.path.join(dirpath,fileName))\n",
    "        wordAndCountList = createCountingWordDict(allWordDict,mnemonicSections)\n",
    "        print(len(wordAndCountList))"
   ]
  },
  {
   "cell_type": "code",
   "execution_count": 5,
   "metadata": {},
   "outputs": [
    {
     "name": "stdout",
     "output_type": "stream",
     "text": [
      "[['a', 'b'], ['b', 'c'], ['c', 'a'], ['a', 'b'], ['b', 'a'], ['a', 'c'], ['c', 'a'], ['a', 'c'], ['c', 'a'], ['a', 'b'], ['b', 'c'], ['c', 'a'], ['a', 'b'], ['b', 'c']]\n",
      "[['a', 'b'], ['b', 'a'], ['a', 'b'], ['b', 'a'], ['a', 'b'], ['b', 'a'], ['a', 'b'], ['b', 'a'], ['a', 'b']]\n"
     ]
    }
   ],
   "source": [
    "# testMne = ['a','b','c','a','b','a','c','a','c','a','b','c','a','b','c']\n",
    "# testMne2 = ['a','b','a','b','a','b','a','b','a','b']\n",
    "# testAllword = [['a', 'b'], ['b', 'c'], ['c', 'a'],['b','a']]\n",
    "# testDivided = getf.getBigramDivide(testMne)\n",
    "# testDivided2 = getf.getBigramDivide(testMne2)\n",
    "# print(testDivided)\n",
    "# print(testDivided2)"
   ]
  },
  {
   "cell_type": "code",
   "execution_count": 57,
   "metadata": {},
   "outputs": [
    {
     "name": "stdout",
     "output_type": "stream",
     "text": [
      "[[['a', 'b'], 4], [['b', 'c'], 3], [['c', 'a'], 4], [['b', 'a'], 1]]\n",
      "[[['a', 'b'], 5], [['b', 'c'], 0], [['c', 'a'], 0], [['b', 'a'], 4]]\n",
      "[[['a', 'b'], 9], [['b', 'c'], 3], [['c', 'a'], 4], [['b', 'a'], 5]]\n"
     ]
    }
   ],
   "source": [
    "# tupleList = []\n",
    "# tupleList2 = []\n",
    "# tupleList = getWordAndCountList(testAllword,testDivided)\n",
    "# tupleList2 =  getWordAndCountList(testAllword,testDivided2)\n",
    "# print(tupleList)\n",
    "# print(tupleList2)\n",
    "# print(addCount(tupleList,tupleList2))"
   ]
  }
 ],
 "metadata": {
  "jupytext": {
   "text_representation": {
    "extension": ".py",
    "format_name": "light",
    "format_version": "1.5",
    "jupytext_version": "1.3.0"
   }
  },
  "kernelspec": {
   "display_name": "Python 3",
   "language": "python",
   "name": "python3"
  },
  "language_info": {
   "codemirror_mode": {
    "name": "ipython",
    "version": 3
   },
   "file_extension": ".py",
   "mimetype": "text/x-python",
   "name": "python",
   "nbconvert_exporter": "python",
   "pygments_lexer": "ipython3",
   "version": "3.7.0"
  }
 },
 "nbformat": 4,
 "nbformat_minor": 2
}
