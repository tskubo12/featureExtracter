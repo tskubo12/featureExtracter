{
 "cells": [
  {
   "cell_type": "code",
   "execution_count": 1,
   "metadata": {},
   "outputs": [],
   "source": [
    "import os\n",
    "import subprocess\n",
    "import numpy as np\n",
    "import array\n",
    "import zlib\n",
    "import gist\n",
    "import cv2\n",
    "import pickle\n",
    "import sys\n",
    "\n",
    "from math import ceil, sqrt\n",
    "from PIL import Image"
   ]
  },
  {
   "cell_type": "code",
   "execution_count": 2,
   "metadata": {},
   "outputs": [],
   "source": [
    "def bytes2png(file, width):\n",
    "\n",
    "    with open(file,'rb') as f:\n",
    "        bytes = bytearray(f.read())\n",
    "        flatNpArray = np.array(bytes)\n",
    "        \n",
    "        fileSize = flatNpArray.size\n",
    "        hight = int(fileSize/width) + 1\n",
    "        imageSize = (width,hight)\n",
    "        needToAddElements = width * hight\n",
    "\n",
    "        pad_width = (0,needToAddElements - fileSize)\n",
    "        np.pad(flatNpArray,pad_width,'constant')\n",
    "        \n",
    "        flatNpArray.resize(hight,width)\n",
    "        \n",
    "        rgbImag = cv2.cvtColor(flatNpArray,cv2.COLOR_GRAY2RGB)\n",
    "        descriptor = gist.extract(rgbImag)\n",
    "        return descriptor\n",
    "    "
   ]
  },
  {
   "cell_type": "code",
   "execution_count": 3,
   "metadata": {},
   "outputs": [],
   "source": [
    "# ディレクトリの生成\n",
    "def makeDir(dirName):\n",
    "    try:\n",
    "        if(not(os.path.exists(dirName))):\n",
    "            mkdirArg = ['mkdir',dirName]\n",
    "            subprocess.check_call(mkdirArg)\n",
    "        else:\n",
    "             print(' {} already exists'.format(dirName))\n",
    "    except:\n",
    "        sys.exit('can\\'t make directory')"
   ]
  },
  {
   "cell_type": "code",
   "execution_count": 4,
   "metadata": {},
   "outputs": [],
   "source": [
    "def writePickle(obj,filePath):\n",
    "    try:\n",
    "        with open(filePath,'wb') as f : \n",
    "            pickle.dump(obj,f)\n",
    "        print('writing {} success'.format(filePath))\n",
    "    except:\n",
    "        print('failed writing {}'.format(filePath))"
   ]
  },
  {
   "cell_type": "code",
   "execution_count": 77,
   "metadata": {
    "lines_to_next_cell": 0
   },
   "outputs": [
    {
     "name": "stdout",
     "output_type": "stream",
     "text": [
      " results/ already exists\n",
      "FastCopy385_installer.zip: 1727.546875kB\n",
      "writing results/imageFeature/FastCopy385_installer.pickle success\n",
      "lpls174.util: 2482.5869140625kB\n",
      "writing results/imageFeature/lpls174.pickle success\n"
     ]
    }
   ],
   "source": [
    "def main():    \n",
    "\n",
    "    bytes_dir = sys.argv[1]\n",
    "    undecodedByte = 'FF'\n",
    "    resultDir = 'results/'\n",
    "    outPutDir = 'results/imageFeature/'\n",
    "    \n",
    "    for dir in [resultDir,outPutDir]:\n",
    "        makeDir(dir)\n",
    "    \n",
    "    for dirpath,dirnames,filenames in os.walk(bytes_dir):\n",
    "#         bytes_file = concat_path(bytes_dir, file)\n",
    "        for filename in filenames:\n",
    "            filePath = dirpath + '/' + filename\n",
    "            with open(filePath, 'rb') as f:\n",
    "                lines = f.read().splitlines()\n",
    "\n",
    "                file_size=os.path.getsize(filePath)\n",
    "                print('{}: {}kB'.format(filename, file_size / 1024))\n",
    "                try:\n",
    "                    if (file_size < 10 * 1024):\n",
    "                        feature = bytes2png(filePath, 32)\n",
    "                    elif (file_size < 30 * 1024):\n",
    "                        feature = bytes2png(filePath, 64)\n",
    "                    elif (file_size < 60 * 1024):\n",
    "                        feature = bytes2png(filePath, 128)\n",
    "                    elif (file_size < 100 * 1024):\n",
    "                        feature = bytes2png(filePath, 256)\n",
    "                    elif (file_size < 200 * 1024):\n",
    "                        feature = bytes2png(filePath, 384)\n",
    "                    elif (file_size < 500 * 1024):\n",
    "                        feature = bytes2png(filePath, 512)\n",
    "                    elif (file_size < 1000 * 1024):\n",
    "                        feature = bytes2png(filePath, 768)\n",
    "                    else:\n",
    "                        feature = bytes2png(filePath, 1024)\n",
    "                except:\n",
    "                    print('can not extract {}'.format(filename))\n",
    "                                \n",
    "                writePickle(feature,outPutDir + os.path.splitext(filename)[0] + '.pickle')\n",
    "\n",
    "                \n",
    "#                 writePickle(feature,outPutDir + filename)\n",
    "\n",
    "main()"
   ]
  },
  {
   "cell_type": "code",
   "execution_count": null,
   "metadata": {},
   "outputs": [],
   "source": []
  }
 ],
 "metadata": {
  "jupytext": {
   "encoding": "# -*- coding: utf-8 -*-",
   "formats": "ipynb,py"
  },
  "kernelspec": {
   "display_name": "syusiML",
   "language": "python",
   "name": "syusiml"
  },
  "language_info": {
   "codemirror_mode": {
    "name": "ipython",
    "version": 3
   },
   "file_extension": ".py",
   "mimetype": "text/x-python",
   "name": "python",
   "nbconvert_exporter": "python",
   "pygments_lexer": "ipython3",
   "version": "3.7.5"
  }
 },
 "nbformat": 4,
 "nbformat_minor": 2
}
