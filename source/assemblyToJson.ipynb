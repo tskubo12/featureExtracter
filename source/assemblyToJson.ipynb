{
 "cells": [
  {
   "cell_type": "code",
   "execution_count": 82,
   "metadata": {},
   "outputs": [],
   "source": [
    "# アセンブリの記されたテキストファイルからニーモニックのみを抽出しjsonファイルを作成する\n",
    "import argparse\n",
    "import json\n",
    "import os\n",
    "import subprocess\n",
    "import sys\n",
    "import pickle\n",
    "import csv\n",
    "import re"
   ]
  },
  {
   "cell_type": "code",
   "execution_count": 83,
   "metadata": {
    "lines_to_next_cell": 0
   },
   "outputs": [],
   "source": [
    "# 全体的な処理の流れ\n",
    "# マルウェア全ファイルの逆アセンブル結果を「assemblyTxt」に保存\n",
    "# 「assemblyTxt」内のファイルをすべてパースしワードリストを作成する\n",
    "# ワードリストをもとに各マルウェアの特徴量の抽出を行う"
   ]
  },
  {
   "cell_type": "code",
   "execution_count": 86,
   "metadata": {},
   "outputs": [],
   "source": [
    "# objdumpで逆アセンブルを行い結果をパースし、jsonを返す\n",
    "def reverseAssembly(filePath):\n",
    "\n",
    "    cmd = ['objdump','--disassemble','--no-show-raw-insn',filePath]\n",
    "    try:\n",
    "        assembly = subprocess.run(cmd,stdout = subprocess.PIPE, stderr = subprocess.PIPE)\n",
    "        print('complete  reversing')\n",
    "\n",
    "    except:\n",
    "        print('can\\'t reverse assembly ')\n",
    "\n",
    "    retJson= getMalJson(filePath,assembly.stdout.decode('utf8'))\n",
    "\n",
    "    return retJson"
   ]
  },
  {
   "cell_type": "code",
   "execution_count": 87,
   "metadata": {},
   "outputs": [],
   "source": [
    "def checkFileType(filePath):\n",
    "        cmd = ['file',filePath]\n",
    "        try:\n",
    "            fileTypeStr = subprocess.run(cmd,stdout = subprocess.PIPE, stderr = subprocess.PIPE)\n",
    "            fileType = parseFileType(fileTypeStr.stdout.decode('utf8'))\n",
    "        except:\n",
    "            print('can not check fileType')\n",
    "            fileType = ''\n",
    "        return  fileType"
   ]
  },
  {
   "cell_type": "code",
   "execution_count": 88,
   "metadata": {},
   "outputs": [],
   "source": [
    "def parseFileType(parseStr):\n",
    "    ret = parseStr.rsplit(':')[1].strip()\n",
    "    return ret"
   ]
  },
  {
   "cell_type": "code",
   "execution_count": 89,
   "metadata": {},
   "outputs": [],
   "source": [
    "# ディレクトリの生成\n",
    "def makeDir(dirName):\n",
    "    try:\n",
    "        if(not(os.path.exists(dirName))):\n",
    "            mkdirArg = ['mkdir',dirName]\n",
    "            subprocess.check_call(mkdirArg)\n",
    "        else:\n",
    "             print(' {} already exists'.format(dirName))\n",
    "    except:\n",
    "        sys.exit('can\\'t make directory')"
   ]
  },
  {
   "cell_type": "code",
   "execution_count": 90,
   "metadata": {},
   "outputs": [],
   "source": [
    "# jsonファイルを指定したファイルに保存する\n",
    "def writeJson(assemblyJson,filePath):\n",
    "    with open(filePath,'w') as f:\n",
    "        fileName = os.path.basename(filePath)\n",
    "        try:\n",
    "            json.dump(assemblyJson,f,indent = 4)\n",
    "            print('complete  writing ')\n",
    "        except:\n",
    "            print('can\\'t output {}'.format(fileName))"
   ]
  },
  {
   "cell_type": "code",
   "execution_count": 91,
   "metadata": {},
   "outputs": [],
   "source": [
    "#逆アセンブルの結果をパースしニーモニックをjsonとして返す\n",
    "def getMalJson(filePath,assembly):\n",
    "\n",
    "    lines = assembly.split('\\n')\n",
    "    lines.append(' ')\n",
    "\n",
    "    sectionName= ''\n",
    "    mnemonics = []\n",
    "    results = {}\n",
    "    section = {}\n",
    "    sectionName = ''\n",
    "    sectionNumber = 0\n",
    "\n",
    "    fileName = os.path.basename(filePath)\n",
    "    results['FileName'] = fileName\n",
    "    results['Filetype '] = checkFileType(filePath)\n",
    "\n",
    "    print('parsing  ')\n",
    "\n",
    "    for line in lines:\n",
    "        if not line:\n",
    "            continue\n",
    "        line = line.split('#')[0].strip('\\n')#コメント削除\n",
    "\n",
    "\n",
    "        if(re.findall('.*:.*file format',line)):\n",
    "            continue\n",
    "\n",
    "        if (re.findall('Disassembly.*:', line)):\n",
    "            continue\n",
    "\n",
    "\n",
    "        if(re.findall('<.*>',line)):\n",
    "            sectionName = re.findall('<.*>',line)\n",
    "            if(len(mnemonics) >= 1):\n",
    "                section.update({sectionName[0] + '_{}'.format(sectionNumber) :mnemonics})\n",
    "                sectionNumber += 1\n",
    "                mnemonics = []\n",
    "            continue\n",
    "\n",
    "        words = line.split()\n",
    "        if(len(words) >=2):\n",
    "            mnemonics.append(words[1])\n",
    "\n",
    "    section.update({sectionName[0] + '_{}'.format(sectionNumber):mnemonics})\n",
    "\n",
    "    results['mnemonics']=section\n",
    "\n",
    "    return results\n",
    "\n",
    "\n",
    "#     print(json.dumps(results,indent = 4))"
   ]
  },
  {
   "cell_type": "code",
   "execution_count": 92,
   "metadata": {},
   "outputs": [],
   "source": [
    "def writePickle(obj,filePath):\n",
    "    fileName = os.path.basename(filePath)\n",
    "    try:\n",
    "        with open(filePath,'wb') as f :\n",
    "            pickle.dump(obj,f)\n",
    "        print('writing {} success'.format(fileName))\n",
    "    except:\n",
    "        print('failed writing {}'.format(fileName))"
   ]
  },
  {
   "cell_type": "code",
   "execution_count": null,
   "metadata": {},
   "outputs": [],
   "source": [
    "def main():\n",
    "    outPutDir = 'results/'\n",
    "\n",
    "    makeDir(outPutDir)\n",
    "    errorHashList = []\n",
    "\n",
    "\n",
    "    malDir = sys.argv[1]\n",
    "\n",
    "    dir = 'assemblyTxt'\n",
    "    jsonDir = os.path.join(outPutDir,dir)\n",
    "    makeDir(jsonDir)\n",
    "\n",
    "\n",
    "    for dirpath,dirnames,filenames in os.walk(malDir):\n",
    "        fileNamesLen = len(filenames)\n",
    "        idx = 1\n",
    "        for filename in filenames:\n",
    "            print('{0}/{1}'.format(idx,fileNamesLen))\n",
    "            try:\n",
    "                assembly = reverseAssembly(os.path.join(malDir , filename))\n",
    "                writeJson(assembly , os.path.join(jsonDir,os.path.splitext(filename)[0])+ '.json')\n",
    "            except:\n",
    "                print('can not complete process')\n",
    "                errorHashList.append(filename)\n",
    "            idx += 1\n",
    "\n",
    "    with open(os.path.join(outPutDir,'errorList.csv') , 'w') as f:\n",
    "        writer = csv.writer(f)\n",
    "        writer.writerow(errorHashList)"
   ]
  },
  {
   "cell_type": "code",
   "execution_count": null,
   "metadata": {},
   "outputs": [],
   "source": [
    "main()"
   ]
  }
 ],
 "metadata": {
  "jupytext": {
   "encoding": "# -*- coding: utf-8 -*-",
   "formats": "ipynb,py"
  },
  "kernelspec": {
   "display_name": "syusiML",
   "language": "python",
   "name": "syusiml"
  },
  "language_info": {
   "codemirror_mode": {
    "name": "ipython",
    "version": 3
   },
   "file_extension": ".py",
   "mimetype": "text/x-python",
   "name": "python",
   "nbconvert_exporter": "python",
   "pygments_lexer": "ipython3",
   "version": "3.7.5"
  }
 },
 "nbformat": 4,
 "nbformat_minor": 2
}
