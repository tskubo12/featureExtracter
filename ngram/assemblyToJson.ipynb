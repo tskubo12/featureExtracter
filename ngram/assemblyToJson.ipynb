{
 "cells": [
  {
   "cell_type": "code",
   "execution_count": 2,
   "metadata": {},
   "outputs": [],
   "source": [
    "# アセンブリの記されたテキストファイルからニーモニックのみを抽出しjsonファイルを作成する\n",
    "import argparse\n",
    "import unicodedata\n",
    "import json\n",
    "import os\n",
    "import subprocess\n",
    "import sys"
   ]
  },
  {
   "cell_type": "code",
   "execution_count": 2,
   "metadata": {
    "lines_to_next_cell": 0
   },
   "outputs": [],
   "source": [
    "# 全体的な処理の流れ\n",
    "# マルウェア全ファイルの逆アセンブル結果を「assemblyTxt」に保存\n",
    "# 「assemblyTxt」内のファイルをすべてパースしワードリストを作成する\n",
    "# ワードリストをもとに各マルウェアの特徴量の抽出を行う"
   ]
  },
  {
   "cell_type": "code",
   "execution_count": 199,
   "metadata": {
    "scrolled": true
   },
   "outputs": [
    {
     "name": "stdout",
     "output_type": "stream",
     "text": [
      "' assemblyTxt/ ' already exists\n",
      "complete : writing assemblyTxt/lpls174.json\n",
      "complete : writing assemblyTxt/sakura_install2-2-0-1.json\n"
     ]
    }
   ],
   "source": [
    "def main():\n",
    "    allWords =[]\n",
    "    parser = argparse.ArgumentParser()\n",
    "    parser.add_argument('dirPath')\n",
    "    malDir = '../byteFiles/'\n",
    "# 実行時は'~$assemblyToJson malwareDir'   \n",
    "    args = parser.parse_args(args=[malDir])\n",
    "    dirName = 'assemblyTxt/'\n",
    "    \n",
    "    makeDir(dirName)\n",
    "    \n",
    "    for dirpath,dirnames,filenames in os.walk(malDir):\n",
    "        for filename in filenames:\n",
    "            if(filename.endswith('.exe')):\n",
    "                assembly = reverseAssembly(malDir+filename,dirName)\n",
    "                writeJson(assembly , dirName + filename.strip('.exe') + '.json')\n",
    "                \n",
    "#                 getAllWords(allWords,filename)\n",
    "main()"
   ]
  },
  {
   "cell_type": "code",
   "execution_count": 179,
   "metadata": {},
   "outputs": [],
   "source": [
    "# objdumpで逆アセンブルを行い結果をパースし、jsonを返す\n",
    "def reverseAssembly(filePath,dirName):\n",
    "    \n",
    "    cmd = ['objdump','-d','--no-show-raw-insn',filePath]\n",
    "    assembly = subprocess.run(cmd,stdout = subprocess.PIPE, stderr = subprocess.PIPE)\n",
    "\n",
    "    retJson= getMalJson(filePath,assembly.stdout.decode('utf8'))\n",
    "    \n",
    "    return retJson\n"
   ]
  },
  {
   "cell_type": "code",
   "execution_count": 183,
   "metadata": {},
   "outputs": [],
   "source": [
    "#逆アセンブルの結果をパースしニーモニックをjsonとして返す\n",
    "def getMalJson(filePath,assembly):\n",
    "    \n",
    "    lines = assembly.split('\\n')\n",
    "    lines.append(' ')\n",
    "    \n",
    "    mnemonics = []\n",
    "    results = {}\n",
    "    section = {}\n",
    "    minDicList = []\n",
    "    block = ''\n",
    "    counter = 0\n",
    "    isInSectionflag = False\n",
    "    isInBlockflag = False\n",
    "    sectionName = ''\n",
    "    \n",
    "    results['filePath'] = filePath\n",
    "    \n",
    "    for line in lines:\n",
    "        line = line.split('#')[0].strip('\\n')#コメント削除\n",
    "        \n",
    "        if not line:\n",
    "            if(isInBlockflag and isInSectionflag ):\n",
    "                minDic = {block:mnemonics}\n",
    "                minDicList.append(minDic)\n",
    "                mnemonics = []\n",
    "                isInBlockflag = False\n",
    "                continue\n",
    "            else:\n",
    "                continue           \n",
    "        \n",
    "        \n",
    "        if(line[len(line) - 1] == ':'):\n",
    "            if('>:' in line):\n",
    "                block = line.strip(':').split()[1]\n",
    "                isInBlockflag = True\n",
    "            else:\n",
    "#             elif('.' in line.split()[1]):\n",
    "                if sectionName:\n",
    "                    section.update({sectionName:minDicList})\n",
    "                    \n",
    "                sectionName = line.split()[1]\n",
    "                minDicList = []\n",
    "                isInSectionflag = True\n",
    "        elif(isInBlockflag == True):\n",
    "#             ニーモニックのリストを作成\n",
    "            words = line.split()\n",
    "            if(len(words) >= 2):\n",
    "                mnemonics.append(words[1])\n",
    "\n",
    "    section.update({sectionName:minDicList})\n",
    "            \n",
    "    results['Section']=section\n",
    "    \n",
    "    return results\n",
    "\n",
    "\n",
    "#     print(json.dumps(results,indent = 4))\n",
    "    "
   ]
  },
  {
   "cell_type": "code",
   "execution_count": 4,
   "metadata": {},
   "outputs": [],
   "source": [
    "# ディレクトリの生成\n",
    "def makeDir(dirName):\n",
    "    try:\n",
    "        if(not(os.path.exists(dirName))):\n",
    "            mkdirArg = ['mkdir',dirName]\n",
    "            subprocess.check_call(mkdirArg)\n",
    "        else:\n",
    "             print('\\' {} \\' already exists'.format(dirName))\n",
    "    except:\n",
    "        sys.exit('can\\'t make directory')"
   ]
  },
  {
   "cell_type": "code",
   "execution_count": 6,
   "metadata": {},
   "outputs": [],
   "source": [
    "def getAllWords(allWords,fileName):\n",
    "    dict = getMalDict(fileName)\n",
    "    print(dict.keys)"
   ]
  },
  {
   "cell_type": "code",
   "execution_count": 7,
   "metadata": {},
   "outputs": [],
   "source": [
    "\n",
    "def generateNgramCount(dict,n,allWords):\n",
    "    section = dict['Section']\n",
    "    for sectionKey in section.keys():\n",
    "        for segment in section[sectionKey]:\n",
    "            for segmentKey in segment.keys():\n",
    "                mnList = segment[segmentKey]\n",
    "                if(n == 2):\n",
    "                    ngramList = list(zip(mnList,mnList[1:]))\n",
    "                elif(n == 3):\n",
    "                    ngramList = list(zip(mnList,mnList[1:],mnList[2:]))\n",
    "                makeDictionary(ngramList)"
   ]
  },
  {
   "cell_type": "code",
   "execution_count": 198,
   "metadata": {},
   "outputs": [],
   "source": [
    "# jsonファイルを指定したファイルに保存する\n",
    "def writeJson(assemblyJson,filePath):\n",
    "    with open(filePath,'w') as f:\n",
    "        try:\n",
    "            json.dump(assemblyJson,f,indent = 4)\n",
    "            print('complete : writing {}'.format(filePath))\n",
    "        except:\n",
    "            print('can\\'t output {}'.format(filePath))"
   ]
  },
  {
   "cell_type": "code",
   "execution_count": 10,
   "metadata": {},
   "outputs": [],
   "source": [
    "# ngramList:ngram分割された単語、タプルのリスト\n",
    "def makeDictionary(ngramList):\n",
    "    count = 0\n",
    "    allWord = list(set(ngramList))\n",
    "    for word in allWords:\n",
    "        count += ngramList.count(word)\n",
    "        print('{}:{}'.format(word,ngramList.count(word)))"
   ]
  },
  {
   "cell_type": "code",
   "execution_count": 61,
   "metadata": {},
   "outputs": [],
   "source": [
    "# def getMalDict(fileName,assembly):\n",
    "    \n",
    "#     lines = assembly.split('\\n')\n",
    "    \n",
    "    \n",
    "#     writeFileName = fileName + '.json'\n",
    "#     mnemonics = []\n",
    "#     results = {}\n",
    "#     section = {}\n",
    "#     minDicList = []\n",
    "#     block = ''\n",
    "#     counter = 0\n",
    "#     flag = 0\n",
    "#     sectionName = ''\n",
    "    \n",
    "#     results['f']\n",
    "    \n",
    "#     for line in lines:\n",
    "#         if counter == 1:#ファイル名を記録\n",
    "#             results['fileName']=line.split(':')[0]\n",
    "#             counter+=1\n",
    "#             continue\n",
    "#         line = line.split('#')[0].strip('\\n')#コメント削除\n",
    "#         if not line:\n",
    "#             counter+=1\n",
    "#             continue\n",
    "\n",
    "#         if(line[len(line) - 1] == ':'): #末尾が':'\n",
    "#             if len(mnemonics) > 0:\n",
    "#                 minDic = {block:mnemonics}\n",
    "#                 minDicList.append(minDic)\n",
    "#                 mnemonics = []\n",
    "#             if('>:' in line) :\n",
    "#                 block = line.strip(':')\n",
    "#                 flag = 1\n",
    "#             else: #セクションの終わりを検知\n",
    "#                 words = line.split()\n",
    "#                 if sectionName:\n",
    "#                     section.update({sectionName:minDicList})\n",
    "#                 minDicList = []\n",
    "#                 sectionName = words[1]\n",
    "#                 flag = 0\n",
    "#         elif(flag == 1):\n",
    "# #             ニーモニックのリストを作成\n",
    "#             words = line.split()\n",
    "#             if(len(words) >= 2):\n",
    "#                 mnemonics.append(words[1])\n",
    "#             if counter == len(lines) - 1: #ファイルの末尾になった場合(最終セクションの処理)gg\n",
    "#                 minDic = {block:mnemonics}\n",
    "#                 minDicList.append(minDic)\n",
    "#                 section.update({sectionName:minDicList})\n",
    "#         counter+=1\n",
    "#     results['Section']=section\n",
    "# #     qprint(results)\n",
    "#     return results"
   ]
  },
  {
   "cell_type": "code",
   "execution_count": null,
   "metadata": {},
   "outputs": [],
   "source": []
  },
  {
   "cell_type": "code",
   "execution_count": null,
   "metadata": {
    "lines_to_next_cell": 2
   },
   "outputs": [],
   "source": []
  }
 ],
 "metadata": {
  "jupytext": {
   "encoding": "# -*- coding: utf-8 -*-",
   "formats": "ipynb,py"
  },
  "kernelspec": {
   "display_name": "Python 3",
   "language": "python",
   "name": "python3"
  },
  "language_info": {
   "codemirror_mode": {
    "name": "ipython",
    "version": 3
   },
   "file_extension": ".py",
   "mimetype": "text/x-python",
   "name": "python",
   "nbconvert_exporter": "python",
   "pygments_lexer": "ipython3",
   "version": "3.7.2"
  }
 },
 "nbformat": 4,
 "nbformat_minor": 2
}
