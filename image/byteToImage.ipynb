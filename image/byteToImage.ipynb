{
 "cells": [
  {
   "cell_type": "code",
   "execution_count": 1,
   "metadata": {},
   "outputs": [],
   "source": [
    "import os\n",
    "import numpy as np\n",
    "import array\n",
    "import zlib\n",
    "\n",
    "from math import ceil, sqrt\n",
    "from PIL import Image"
   ]
  },
  {
   "cell_type": "code",
   "execution_count": 2,
   "metadata": {},
   "outputs": [],
   "source": [
    "#### Configuration\n",
    "\n",
    "bytes_dir = '../byteFiles'\n",
    "images_dir = './images'\n",
    "undecodedByte = 'FF'\n",
    "\n",
    "try:\n",
    "    os.makedirs(images_dir)\n",
    "except FileExistsError:\n",
    "    pass\n",
    "\n",
    "concat_path = lambda *args: '/'.join(args)"
   ]
  },
  {
   "cell_type": "code",
   "execution_count": 3,
   "metadata": {},
   "outputs": [],
   "source": [
    "def findByteFiles():\n",
    "    dataFiles = os.listdir(bytes_dir)\n",
    "    dataFiles = list(filter(lambda x: x.endswith('.exe'), dataFiles))\n",
    "    return dataFiles"
   ]
  },
  {
   "cell_type": "code",
   "execution_count": 4,
   "metadata": {},
   "outputs": [],
   "source": [
    "def deflate_compressed_size(bytes_in):\n",
    "    bytes_out = zlib.compress(bytes_in)\n",
    "    return len(bytes_out)\n",
    "\n",
    "def deflate_compression_ratio(bytes_in):\n",
    "    len_out = deflate_compressed_size(bytes_in)\n",
    "    return (100-len_out/len(bytes_in)*100), len_out"
   ]
  },
  {
   "cell_type": "code",
   "execution_count": 5,
   "metadata": {},
   "outputs": [
    {
     "name": "stdout",
     "output_type": "stream",
     "text": [
      "lpls174.exe: 2482.5869140625kB\n",
      "./images/lpls174.png\n",
      "2542169\n",
      "2542592\n",
      "423\n",
      "<class 'numpy.ndarray'>\n",
      "sakura_install2-2-0-1.exe: 2861.2685546875kB\n",
      "./images/sakura_install2-2-0-1.png\n",
      "2929939\n",
      "2930688\n",
      "749\n",
      "<class 'numpy.ndarray'>\n"
     ]
    }
   ],
   "source": [
    "def bytes2png(f, width):\n",
    "    file = concat_path(bytes_dir, f)\n",
    "    \n",
    "\n",
    "    image_name = concat_path(images_dir, f.split('.')[0] + '.png')\n",
    "    print(image_name)\n",
    "#     if os.path.isfile(image_name):\n",
    "#         print('Image already exists: {}'.format(image_name))\n",
    "#         return\n",
    "    \n",
    "    with open(file,'rb') as f:\n",
    "        bytes = bytearray(f.read())\n",
    "        flatNpArray = np.array(bytes)\n",
    "        \n",
    "        fileSize = flatNpArray.size\n",
    "        hight = int(fileSize/width) + 1\n",
    "        imageSize = (width,hight)\n",
    "        needToAddElements = width * hight\n",
    "        print(fileSize)\n",
    "        print(needToAddElements)\n",
    "        print(needToAddElements - fileSize)\n",
    "        pad_width = (0,needToAddElements - fileSize)\n",
    "        np.pad(flatNpArray,pad_width,'constant')\n",
    "        print(type(flatNpArray))\n",
    "        \n",
    "        grayImage = flatNpArray.resize(hight,width)\n",
    "        \n",
    "        pilout = Image.fromarray(np.uint8(flatNpArray))\n",
    "        pilout.save(image_name)\n",
    "\n",
    "\n",
    "files = findByteFiles()\n",
    "\n",
    "for file in files:\n",
    "    # Nataraj et al. file size to width table \n",
    "#     images_dir = '.\\\\imageData_nataraj'\n",
    "    bytes_file = concat_path(bytes_dir, file)\n",
    "\n",
    "    with open(bytes_file, 'rb') as f:\n",
    "        lines = f.read().splitlines()\n",
    "        \n",
    "        file_size=os.path.getsize(bytes_file)\n",
    "        print('{}: {}kB'.format(file, file_size / 1024))\n",
    "        if (file_size < 10 * 1024):\n",
    "            bytes2png(file, 32)\n",
    "        elif (file_size < 30 * 1024):\n",
    "            bytes2png(file, 64)\n",
    "        elif (file_size < 60 * 1024):\n",
    "            bytes2png(file, 128)\n",
    "        elif (file_size < 100 * 1024):\n",
    "            bytes2png(file, 256)\n",
    "        elif (file_size < 200 * 1024):\n",
    "            bytes2png(file, 384)\n",
    "        elif (file_size < 500 * 1024):\n",
    "            bytes2png(file, 512)\n",
    "        elif (file_size < 1000 * 1024):\n",
    "            bytes2png(file, 768)\n",
    "        else:\n",
    "            bytes2png(file, 1024)\n"
   ]
  },
  {
   "cell_type": "code",
   "execution_count": null,
   "metadata": {},
   "outputs": [],
   "source": []
  }
 ],
 "metadata": {
  "kernelspec": {
   "display_name": "Python 3",
   "language": "python",
   "name": "python3"
  },
  "language_info": {
   "codemirror_mode": {
    "name": "ipython",
    "version": 3
   },
   "file_extension": ".py",
   "mimetype": "text/x-python",
   "name": "python",
   "nbconvert_exporter": "python",
   "pygments_lexer": "ipython3",
   "version": "3.7.2"
  }
 },
 "nbformat": 4,
 "nbformat_minor": 2
}
